{
 "cells": [
  {
   "cell_type": "code",
   "execution_count": 11,
   "metadata": {},
   "outputs": [],
   "source": [
    "import matplotlib.pyplot as plt, numpy as np\n",
    "from sympy import *\n",
    "init_printing(use_latex=True)"
   ]
  },
  {
   "cell_type": "code",
   "execution_count": 12,
   "metadata": {
    "collapsed": true
   },
   "outputs": [],
   "source": [
    "T, N, K, Dx, Da, Dt, Dy, C, P, db, sb = symbols('T N K D_x D_a D_t D_y C P d_b s_b')\n",
    "loc = db * T*K*Dx\n",
    "app = db * (K*C + K*C*Da + K*C*Da*Da)\n",
    "ext = db * (T*K*P + T*K*P*Dt + T*K*P*Dt*Dt)\n",
    "ass = sb * (T*N + T*N) + db * (T * K+1)\n",
    "bg = db * (N*Dy + N*Dy*Dy)\n",
    "expr = loc + app + ext + ass + bg"
   ]
  },
  {
   "cell_type": "code",
   "execution_count": 13,
   "metadata": {},
   "outputs": [
    {
     "data": {
      "image/png": "[encoded data removed]",
      "text/latex": [
       "$$C D_{a}^{2} K d_{b} + C D_{a} K d_{b} + C K d_{b} + D_{t}^{2} K P T d_{b} + D_{t} K P T d_{b} + D_{x} K T d_{b} + D_{y}^{2} N d_{b} + D_{y} N d_{b} + K P T d_{b} + K T d_{b} + 2 N T s_{b} + d_{b}$$"
      ],
      "text/plain": [
       "    2                                  2                                      \n",
       "C⋅Dₐ ⋅K⋅d_b + C⋅Dₐ⋅K⋅d_b + C⋅K⋅d_b + Dₜ ⋅K⋅P⋅T⋅d_b + Dₜ⋅K⋅P⋅T⋅d_b + Dₓ⋅K⋅T⋅d_b\n",
       "\n",
       "      2                                                          \n",
       " + D_y ⋅N⋅d_b + D_y⋅N⋅d_b + K⋅P⋅T⋅d_b + K⋅T⋅d_b + 2⋅N⋅T⋅s_b + d_b"
      ]
     },
     "execution_count": 13,
     "metadata": {},
     "output_type": "execute_result"
    }
   ],
   "source": [
    "factor(expr)"
   ]
  },
  {
   "cell_type": "code",
   "execution_count": 47,
   "metadata": {},
   "outputs": [],
   "source": [
    "TT = np.array([1, 100, 1000, 5000, 55000]) # timesteps\n",
    "NXY = np.array([[270,480], [960,540], [1920,1080]]) # observation dimension\n",
    "NN = np.array([270*480, 960*540, 1920*1080]) # pooled observation dimension\n",
    "K = 2 # number targets\n",
    "Dx = 6 # latent state size\n",
    "Da = 3 # appearance size\n",
    "Dt = 3 # latent part size\n",
    "Dy = 6 # observation dimension \n",
    "C = 5 # appearance num components\n",
    "P = 5 # parts num components\n",
    "db = 8 # size of double in bytes\n",
    "sb = 1 # size of short in bytes"
   ]
  },
  {
   "cell_type": "code",
   "execution_count": 48,
   "metadata": {},
   "outputs": [
    {
     "name": "stdout",
     "output_type": "stream",
     "text": [
      "Sample Storage Size\n",
      "Storing Associations\n",
      "T = 00001, N = (0270, 0480), MB = 43.81\n",
      "T = 00100, N = (0270, 0480), MB = 69.58\n",
      "T = 01000, N = (0270, 0480), MB = 303.90\n",
      "T = 05000, N = (0270, 0480), MB = 1345.31\n",
      "T = 55000, N = (0270, 0480), MB = 14362.91\n",
      "T = 00001, N = (0960, 0540), MB = 175.22\n",
      "T = 00100, N = (0960, 0540), MB = 277.98\n",
      "T = 01000, N = (0960, 0540), MB = 1212.14\n",
      "T = 05000, N = (0960, 0540), MB = 5363.94\n",
      "T = 55000, N = (0960, 0540), MB = 57261.54\n",
      "T = 00001, N = (1920, 1080), MB = 700.88\n",
      "T = 00100, N = (1920, 1080), MB = 1111.57\n",
      "T = 01000, N = (1920, 1080), MB = 4845.08\n",
      "T = 05000, N = (1920, 1080), MB = 21438.49\n",
      "T = 55000, N = (1920, 1080), MB = 228856.09\n",
      "Not Storing Associations\n",
      "T = 00001, N = (0270, 0480), MB = 43.55\n",
      "T = 00100, N = (0270, 0480), MB = 43.66\n",
      "T = 01000, N = (0270, 0480), MB = 44.68\n",
      "T = 05000, N = (0270, 0480), MB = 49.23\n",
      "T = 55000, N = (0270, 0480), MB = 106.03\n",
      "T = 00001, N = (0960, 0540), MB = 174.18\n",
      "T = 00100, N = (0960, 0540), MB = 174.30\n",
      "T = 01000, N = (0960, 0540), MB = 175.32\n",
      "T = 05000, N = (0960, 0540), MB = 179.86\n",
      "T = 55000, N = (0960, 0540), MB = 236.66\n",
      "T = 00001, N = (1920, 1080), MB = 696.73\n",
      "T = 00100, N = (1920, 1080), MB = 696.84\n",
      "T = 01000, N = (1920, 1080), MB = 697.87\n",
      "T = 05000, N = (1920, 1080), MB = 702.41\n",
      "T = 55000, N = (1920, 1080), MB = 759.21\n"
     ]
    }
   ],
   "source": [
    "print('Sample Storage Size')\n",
    "for store_ass in [True, False]:\n",
    "    if store_ass: print('Storing Associations')\n",
    "    else: print('Not Storing Associations')\n",
    "    for idx, N in enumerate(NN):\n",
    "        for T in TT:\n",
    "            loc = db * T*K*Dx\n",
    "            app = db * (K*C + K*C*Da + K*C*Da*Da)\n",
    "            ext = db * (T*K*P + T*K*P*Dt + T*K*P*Dt*Dt)\n",
    "            if store_ass:\n",
    "                ass = sb * (T*N + T*N) + db * (T * K+1)\n",
    "            else:\n",
    "                ass = 1\n",
    "            bg = db * (N*Dy + N*Dy*Dy)\n",
    "            totalBytes = loc + app + ext + ass + bg\n",
    "            totalMB = totalBytes * 1e-6\n",
    "            print('T = %05d, N = (%04d, %04d), MB = %.02f' % (T, NXY[idx][0], NXY[idx][1], totalMB))"
   ]
  }
 ],
 "metadata": {
  "kernelspec": {
   "display_name": "Python 3",
   "language": "python",
   "name": "python3"
  },
  "language_info": {
   "codemirror_mode": {
    "name": "ipython",
    "version": 3
   },
   "file_extension": ".py",
   "mimetype": "text/x-python",
   "name": "python",
   "nbconvert_exporter": "python",
   "pygments_lexer": "ipython3",
   "version": "3.6.6"
  }
 },
 "nbformat": 4,
 "nbformat_minor": 2
}
